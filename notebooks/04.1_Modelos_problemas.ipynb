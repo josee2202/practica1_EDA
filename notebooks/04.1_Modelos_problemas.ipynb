{
 "cells": [
  {
   "cell_type": "code",
   "execution_count": null,
   "metadata": {},
   "outputs": [],
   "source": []
  },
  {
   "cell_type": "code",
   "execution_count": null,
   "metadata": {},
   "outputs": [],
   "source": [
    "from sklearn.pipeline import Pipeline\n",
    "from sklearn.model_selection import RandomizedSearchCV\n",
    "from sklearn.svm import SVC\n",
    "from sklearn.metrics import classification_report\n",
    "\n",
    "# Configurar el Pipeline\n",
    "svc_pipeline = Pipeline(steps=[('classifier', SVC(probability=True, random_state=seed))])\n",
    "\n",
    "# Definir el espacio de hiperparámetros\n",
    "param_grid = {\n",
    "    'classifier__C': [0.1, 1, 10, 100],                 # Penalización del margen\n",
    "    'classifier__kernel': ['linear', 'poly', 'rbf'],   # Tipo de kernel\n",
    "    'classifier__gamma': ['scale', 'auto', 0.1, 0.01], # Coeficiente del kernel\n",
    "    'classifier__degree': [2, 3, 4]                    # Grado del polinomio (solo para kernel poly)\n",
    "}\n",
    "\n",
    "# Configurar RandomizedSearchCV\n",
    "CV = RandomizedSearchCV(\n",
    "    estimator=svc_pipeline,\n",
    "    param_distributions=param_grid,\n",
    "    n_iter=10,  # Número de combinaciones a probar\n",
    "    cv=10,  # Validación cruzada\n",
    "    scoring='accuracy',  # Métrica de evaluación\n",
    "    random_state=seed,  # Semilla para reproducibilidad\n",
    "    n_jobs=-1,  # Usar todos los núcleos disponibles\n",
    "    verbose=2\n",
    ")\n",
    "\n",
    "# Entrenar el modelo\n",
    "CV.fit(X_resampled, y_resampled)\n",
    "\n",
    "# Predecir en el conjunto de validación\n",
    "y_pred_proba = CV.predict_proba(X_val)[:, 1]\n",
    "threshold = 0.3  # Prueba diferentes valores de umbral\n",
    "y_pred = (y_pred_proba >= threshold).astype(int)\n",
    "\n",
    "# Imprimir los mejores parámetros y el mejor score\n",
    "print(\"Mejores parámetros:\", CV.best_params_)\n",
    "print(\"Mejor score:\", CV.best_score_)\n",
    "\n",
    "# Reporte de clasificación\n",
    "print(classification_report(y_val, y_pred))\n"
   ]
  }
 ],
 "metadata": {
  "kernelspec": {
   "display_name": "aa_p2_eda",
   "language": "python",
   "name": "python3"
  },
  "language_info": {
   "name": "python",
   "version": "3.8.20"
  }
 },
 "nbformat": 4,
 "nbformat_minor": 2
}
